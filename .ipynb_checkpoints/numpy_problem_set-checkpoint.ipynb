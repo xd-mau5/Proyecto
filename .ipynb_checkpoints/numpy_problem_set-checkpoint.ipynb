{
 "cells": [
  {
   "cell_type": "markdown",
   "metadata": {
    "id": "IveqNmKyMZqB"
   },
   "source": [
    "# Numpy: Problem Set"
   ]
  },
  {
   "cell_type": "markdown",
   "metadata": {},
   "source": [
    "## Problema 1\n",
    "\n",
    "Dado el arreglo:\n",
    "\n",
    "``` python\n",
    "arr = np.arange(16).reshape(4, 4)\n",
    "arr\n",
    "\n",
    "array([[ 0,  1,  2,  3],\n",
    "       [ 4,  5,  6,  7],\n",
    "       [ 8,  9, 10, 11],\n",
    "       [12, 13, 14, 15]])\n",
    "```\n",
    "\n",
    "* Intercambie las columnas 1 y 2 en el arreglo arr.\n",
    "\n",
    "* Intercambie las filas 2 y 3 en el arreglo arr.\n",
    "\n",
    "* Reverse las columnas del arreglo arr."
   ]
  },
  {
   "cell_type": "code",
   "execution_count": 7,
   "metadata": {},
   "outputs": [
    {
     "name": "stdout",
     "output_type": "stream",
     "text": [
      "Intercambie las columnas 1 y 2 en el arreglo arr.\n",
      "[[ 1  0  2  3]\n",
      " [ 5  4  6  7]\n",
      " [ 9  8 10 11]\n",
      " [13 12 14 15]]\n",
      "Intercambie las filas 2 y 3 en el arreglo arr.\n",
      "[[ 0  1  2  3]\n",
      " [ 8  9 10 11]\n",
      " [ 4  5  6  7]\n",
      " [12 13 14 15]]\n",
      "Reverse las columnas del arreglo arr.\n",
      "[[ 3  2  1  0]\n",
      " [ 7  6  5  4]\n",
      " [11 10  9  8]\n",
      " [15 14 13 12]]\n"
     ]
    }
   ],
   "source": [
    "import numpy as np\n",
    "arr = np.arange(16).reshape(4,4)\n",
    "# Intercambie las columnas 1 y 2 en el arreglo arr.\n",
    "new_arr = arr.copy()\n",
    "new_arr[:,[0,1]] = new_arr[:,[1,0]]\n",
    "print(\"Intercambie las columnas 1 y 2 en el arreglo arr.\")\n",
    "print(new_arr)\n",
    "# Intercambie las filas 2 y 3 en el arreglo arr.\n",
    "new_arr = arr.copy()\n",
    "new_arr[[1,2],:] = new_arr[[2,1],:]\n",
    "print(\"Intercambie las filas 2 y 3 en el arreglo arr.\")\n",
    "print(new_arr)\n",
    "# Reverse las columnas del arreglo arr.\n",
    "new_arr = arr.copy()\n",
    "new_arr = new_arr[:,::-1]\n",
    "print(\"Reverse las columnas del arreglo arr.\")\n",
    "print(new_arr)"
   ]
  },
  {
   "cell_type": "markdown",
   "metadata": {},
   "source": [
    "## Problema 2\n",
    "\n",
    "La función softmax suele ser usada en métodos de clasificación multiclase y se define como:\n",
    "\n",
    "$$s(x_i) = \\frac{\\exp(x_i)}{\\sum_j \\exp(x_j)}$$\n",
    "\n",
    "Por ejemplo, para un vector $[-1, 0, 3, 5]$ tenemos \n",
    "\n",
    "$$\n",
    "\\begin{align*}\n",
    "e^{-1} &= 0.368 \\\\ \n",
    "e^0    &= 1     \\\\\n",
    "e^3    &= 20.09 \\\\\n",
    "e^5    &= 148.41\n",
    "\\end{align*}\n",
    "$$\n",
    "\n",
    "y\n",
    "\n",
    "$$ \\sum_j \\exp(x_j) = e^{-1} + e^{0} + e^{3} + e^{5} = 169.87$$\n",
    "\n",
    "Por lo que la función softmax será:\n",
    "\n",
    "$$\n",
    "\\left[\\frac{e^{-1}}{e^{-1} + e^{0} + e^{3} + e^{5}}, \\frac{e^0}{e^{-1} + e^{0} + e^{3} + e^{5}}, \\frac{e^3}{e^{-1} + e^{0} + e^{3} + e^{5}}, \\frac{e^5}{e^{-1} + e^{0} + e^{3} + e^{5}}\\right] = \n",
    "[0.002, 0.006, 0.118, 0.874]\n",
    "$$\n",
    "\n",
    "__Ejercicio:__ Usando Numpy calule el arreglo resultante de aplicar un softmax al arreglo\n",
    "\n",
    "``` python\n",
    "array([1.5709426 , 1.16403493, 1.2330337 , 4.26153421, 4.40515646,\n",
    "       4.19808553, 0.83602374, 2.17127201, 1.81457306, 1.13325462])\n",
    "```"
   ]
  },
  {
   "cell_type": "code",
   "execution_count": 19,
   "metadata": {},
   "outputs": [
    {
     "name": "stdout",
     "output_type": "stream",
     "text": [
      "Funcion softmax\n"
     ]
    },
    {
     "data": {
      "text/plain": [
       "array([0.01915921, 0.01275439, 0.0136655 , 0.28241425, 0.32603255,\n",
       "       0.26505207, 0.00918769, 0.03492185, 0.02444471, 0.01236779])"
      ]
     },
     "execution_count": 19,
     "metadata": {},
     "output_type": "execute_result"
    }
   ],
   "source": [
    "array2 = np.array([1.5709426 , 1.16403493, 1.2330337 , 4.26153421, 4.40515646,\n",
    "4.19808553, 0.83602374, 2.17127201, 1.81457306, 1.13325462])\n",
    "# Funcion softmax\n",
    "def softmax(x):\n",
    "    e_x = np.exp(x)\n",
    "    soft = e_x / np.sum(e_x)\n",
    "    return soft\n",
    "print(\"Funcion softmax\")\n",
    "softmax(array2)"
   ]
  },
  {
   "cell_type": "markdown",
   "metadata": {},
   "source": [
    "## Problema 3\n",
    "\n",
    "Investigue el funcinamiento de los métodos `argmax` y `argmin` de numpy. Con base en lo investigado resulva las siguientes preguntas:\n",
    "\n",
    "* Indique el indice de mayor valor y el indice de menor valor al aplicar un softmax al arreglo que se mostró en el __Problema 2__, es decir,\n",
    "\n",
    "``` python\n",
    "array([1.5709426 , 1.16403493, 1.2330337 , 4.26153421, 4.40515646,\n",
    "       4.19808553, 0.83602374, 2.17127201, 1.81457306, 1.13325462])\n",
    "```\n",
    "\n",
    "* Para cada fila indique la posición de columna de mayor valor y menor valor del arreglo:\n",
    "``` python\n",
    "array([[3, 9, 5, 8, 4],\n",
    "       [7, 1, 2, 8, 5],\n",
    "       [1, 4, 0, 3, 9]])\n",
    "```"
   ]
  },
  {
   "cell_type": "code",
   "execution_count": 85,
   "metadata": {},
   "outputs": [
    {
     "name": "stdout",
     "output_type": "stream",
     "text": [
      "El indice del valor minimo usando softmax es:  6\n",
      "El indice del valor maximo usando softmax es:  4\n",
      "El indice de la columna de mayor valor es:  (0, 1)\n",
      "El indice de la columna de menor valor es:  (2, 2)\n"
     ]
    }
   ],
   "source": [
    "# Funcion softmax\n",
    "print(\"El indice del valor minimo usando softmax es: \", np.argmin(softmax(array2)))\n",
    "print(\"El indice del valor maximo usando softmax es: \", np.argmax(softmax(array2)))\n",
    "# Indicar la posicion de la columna de mayor y menor valor del arreglo array3\n",
    "array3 = np.array([[3, 9, 5, 8, 4], [7, 1, 2, 8, 5], [1, 4, 0, 3, 9]])\n",
    "ind = np.unravel_index(np.argmax(array3, axis=None), array3.shape)\n",
    "print(\"El indice de la columna de mayor valor es: \", ind)\n",
    "ind = np.unravel_index(np.argmin(array3, axis=None), array3.shape)\n",
    "print(\"El indice de la columna de menor valor es: \", ind)\n",
    "#print(\"El indice de la columna de mayor valor del arreglo array3 es: \", array3.argmax(axis=0))\n",
    "#print(\"El indice de la columna de menor valor del arreglo array3 es: \", array3.argmin(axis=0))\n"
   ]
  },
  {
   "cell_type": "markdown",
   "metadata": {},
   "source": [
    "## Problema 4\n",
    "\n",
    "Para una matriz la Norma de Frobenius se define como:\n",
    "\n",
    "$$ ||A|| = \\sqrt{\\sum_i \\sum_j |a_{ij}|^2}$$\n",
    "\n",
    "__Ejercicio:__ Calcular la matriz resultante de dividir cada componente de esta por su correspondiente norma de Frobenius para el arreglo:\n",
    "\n",
    "``` python\n",
    "array([[74, 15, 29, 56,  6],\n",
    "       [74, 45, 24, 21, 39],\n",
    "       [96, 47, 91, 80, 19],\n",
    "       [72, 93, 32,  4, 73],\n",
    "       [10, 14, 81, 80,  2],\n",
    "       [78, 81, 72, 27, 14]])\n",
    "```"
   ]
  },
  {
   "cell_type": "code",
   "execution_count": 39,
   "metadata": {},
   "outputs": [
    {
     "name": "stdout",
     "output_type": "stream",
     "text": [
      "La norma de Frobenius del arreglo es:  313.7467131301936\n"
     ]
    }
   ],
   "source": [
    "# Crear la funcion para la Norma de Frobenius\n",
    "def frobenius(x):\n",
    "    return np.sqrt(np.sum(np.square(x)))\n",
    "array4 = np.array([\n",
    "    [74, 15, 29, 56,  6],\n",
    "    [74, 45, 24, 21, 39],\n",
    "    [96, 47, 91, 80, 19],\n",
    "    [72, 93, 32,  4, 73],\n",
    "    [10, 14, 81, 80,  2],\n",
    "    [78, 81, 72, 27, 14]\n",
    "    ])\n",
    "print(\"La norma de Frobenius del arreglo es: \", frobenius(array4))"
   ]
  },
  {
   "cell_type": "markdown",
   "metadata": {
    "id": "ShUWRutEMZqC"
   },
   "source": [
    "## Problema 5\n",
    "\n",
    "Dada una matriz, desarrolle un programa que retorne otra de igual dimensiones y en la que se le reste a cada componente, la media aritmética de su respectiva fila.\n",
    "\n",
    "### Ejemplo de Ejecución\n",
    "\n",
    "```python\n",
    "a = [[1, 2, 3], [4, 5, 6],[7,8,9]]\n",
    "X = np.array(a)\n",
    "X\n",
    "    array([[1, 2, 3],\n",
    "           [4, 5, 6],\n",
    "           [7, 8, 9]])\n",
    "```\n",
    "\n",
    "Al llamar la función debería retornar\n",
    "\n",
    "```python\n",
    "array([[-1.,  0.,  1.],\n",
    "       [-1.,  0.,  1.],\n",
    "       [-1.,  0.,  1.]])\n",
    "```"
   ]
  },
  {
   "cell_type": "code",
   "execution_count": 69,
   "metadata": {},
   "outputs": [
    {
     "name": "stdout",
     "output_type": "stream",
     "text": [
      "[[17  7 15]\n",
      " [17  4 10]\n",
      " [ 3 11  0]]\n",
      "La media es: [13.         10.33333333  4.66666667]\n"
     ]
    },
    {
     "data": {
      "text/plain": [
       "array([[  4.        ,  -3.33333333,  10.33333333],\n",
       "       [  4.        ,  -6.33333333,   5.33333333],\n",
       "       [-10.        ,   0.66666667,  -4.66666667]])"
      ]
     },
     "execution_count": 69,
     "metadata": {},
     "output_type": "execute_result"
    }
   ],
   "source": [
    "a = np.random.randint(0, 20, (3, 3))\n",
    "b = a.copy()\n",
    "print(a)\n",
    "print(\"La media es:\", a.mean(axis=1))\n",
    "arr = b - b.mean(axis=1)\n",
    "arr"
   ]
  },
  {
   "cell_type": "markdown",
   "metadata": {},
   "source": [
    "## Problema 6\n",
    "\n",
    "Para este ejercicio construya una función que retorne en un arreglo el producto de las diagonales de dos matrices cuadradas dadas.\n",
    "\n",
    "### Ejemplo de Ejecución\n",
    "\n",
    "```python\n",
    "A = np.array([[0.69081065, 0.06006137, 0.18300935, 0.19601926, 0.07824016],\n",
    "              [0.58312582, 0.77299046, 0.96722019, 0.92841321, 0.60148505],\n",
    "              [0.59474377, 0.88784343, 0.24064363, 0.35579806, 0.65341767],\n",
    "              [0.51393273, 0.4496207 , 0.45580921, 0.24620896, 0.5887129 ],\n",
    "              [0.13131683, 0.39797479, 0.0929423 , 0.99304881, 0.76627675]])\n",
    "\n",
    "B= np.array([[0.97989594, 0.08636754, 0.4492705 , 0.86072191, 0.03856519],\n",
    "             [0.44996748, 0.02053529, 0.52400952, 0.23380775, 0.1987145 ],\n",
    "             [0.55261594, 0.91708056, 0.0579381 , 0.20628072, 0.99147633],\n",
    "             [0.21272397, 0.23911208, 0.01610409, 0.16383926, 0.35710013],\n",
    "             [0.4835879 , 0.20955332, 0.30146096, 0.91481247, 0.34845907]])\n",
    "\n",
    "diagonal_prod(A,B)\n",
    "    np.array([0.67692255, 0.01587358, 0.01394243, 0.04033869, 0.26701608])\n",
    "\n",
    "```"
   ]
  },
  {
   "cell_type": "code",
   "execution_count": 77,
   "metadata": {},
   "outputs": [
    {
     "data": {
      "text/plain": [
       "array([0.67692255, 0.01587358, 0.01394243, 0.04033869, 0.26701608])"
      ]
     },
     "execution_count": 77,
     "metadata": {},
     "output_type": "execute_result"
    }
   ],
   "source": [
    "A = np.array([[0.69081065, 0.06006137, 0.18300935, 0.19601926, 0.07824016],\n",
    "              [0.58312582, 0.77299046, 0.96722019, 0.92841321, 0.60148505],\n",
    "              [0.59474377, 0.88784343, 0.24064363, 0.35579806, 0.65341767],\n",
    "              [0.51393273, 0.4496207 , 0.45580921, 0.24620896, 0.5887129 ],\n",
    "              [0.13131683, 0.39797479, 0.0929423 , 0.99304881, 0.76627675]])\n",
    "\n",
    "B = np.array([[0.97989594, 0.08636754, 0.4492705 , 0.86072191, 0.03856519],\n",
    "             [0.44996748, 0.02053529, 0.52400952, 0.23380775, 0.1987145 ],\n",
    "             [0.55261594, 0.91708056, 0.0579381 , 0.20628072, 0.99147633],\n",
    "             [0.21272397, 0.23911208, 0.01610409, 0.16383926, 0.35710013],\n",
    "             [0.4835879 , 0.20955332, 0.30146096, 0.91481247, 0.34845907]])\n",
    "def diagonal(A, B):\n",
    "    return np.multiply(np.diag(A), np.diag(B))\n",
    "diagonal(A, B)"
   ]
  }
 ],
 "metadata": {
  "colab": {
   "name": "Problem_Set_NUMPY.ipynb",
   "provenance": []
  },
  "kernelspec": {
   "display_name": "Python 3.9.13",
   "language": "python",
   "name": "python3"
  },
  "language_info": {
   "codemirror_mode": {
    "name": "ipython",
    "version": 3
   },
   "file_extension": ".py",
   "mimetype": "text/x-python",
   "name": "python",
   "nbconvert_exporter": "python",
   "pygments_lexer": "ipython3",
   "version": "3.9.13"
  },
  "vscode": {
   "interpreter": {
    "hash": "88279d2366fe020547cde40dd65aa0e3aa662a6ec1f3ca12d88834876c85e1a6"
   }
  }
 },
 "nbformat": 4,
 "nbformat_minor": 4
}
