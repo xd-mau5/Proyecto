{
 "cells": [
  {
   "cell_type": "markdown",
   "metadata": {
    "id": "IveqNmKyMZqB"
   },
   "source": [
    "# Numpy: Problem Set"
   ]
  },
  {
   "cell_type": "markdown",
   "metadata": {},
   "source": [
    "## Problema 1\n",
    "\n",
    "Dado el arreglo:\n",
    "\n",
    "``` python\n",
    "arr = np.arange(16).reshape(4, 4)\n",
    "arr\n",
    "\n",
    "array([[ 0,  1,  2,  3],\n",
    "       [ 4,  5,  6,  7],\n",
    "       [ 8,  9, 10, 11],\n",
    "       [12, 13, 14, 15]])\n",
    "```\n",
    "\n",
    "* Intercambie las columnas 1 y 2 en el arreglo arr.\n",
    "\n",
    "* Intercambie las filas 2 y 3 en el arreglo arr.\n",
    "\n",
    "* Reverse las columnas del arreglo arr."
   ]
  },
  {
   "cell_type": "code",
   "execution_count": 2,
   "metadata": {},
   "outputs": [
    {
     "data": {
      "text/html": [
       "<pre style=\"white-space:pre;overflow-x:auto;line-height:normal;font-family:Menlo,'DejaVu Sans Mono',consolas,'Courier New',monospace\"><span style=\"color: #ff0000; text-decoration-color: #ff0000\">                                 Intercambie las columnas </span><span style=\"color: #008080; text-decoration-color: #008080; font-weight: bold\">1</span><span style=\"color: #ff0000; text-decoration-color: #ff0000\"> y </span><span style=\"color: #008080; text-decoration-color: #008080; font-weight: bold\">2</span><span style=\"color: #ff0000; text-decoration-color: #ff0000\"> en el arreglo arr.                                 </span>\n",
       "</pre>\n"
      ],
      "text/plain": [
       "\u001b[91m                                 \u001b[0m\u001b[91mIntercambie las columnas \u001b[0m\u001b[1;36m1\u001b[0m\u001b[91m y \u001b[0m\u001b[1;36m2\u001b[0m\u001b[91m en el arreglo arr.\u001b[0m\u001b[91m                                 \u001b[0m\n"
      ]
     },
     "metadata": {},
     "output_type": "display_data"
    },
    {
     "data": {
      "text/html": [
       "<pre style=\"white-space:pre;overflow-x:auto;line-height:normal;font-family:Menlo,'DejaVu Sans Mono',consolas,'Courier New',monospace\">                                       ┏━━━━━━━━━━━━━━━━━┳━━━━━━━━━━━━━━━━━┓                                       \n",
       "                                       ┃<span style=\"color: #00d700; text-decoration-color: #00d700\">    Original     </span>┃<span style=\"color: #00d700; text-decoration-color: #00d700\">      Nuevo      </span>┃                                       \n",
       "                                       ┡━━━━━━━━━━━━━━━━━╇━━━━━━━━━━━━━━━━━┩                                       \n",
       "                                       │ [[ 0  1  2  3]  │ [[ 1  0  2  3]  │                                       \n",
       "                                       │  [ 4  5  6  7]  │  [ 5  4  6  7]  │                                       \n",
       "                                       │  [ 8  9 10 11]  │  [ 9  8 10 11]  │                                       \n",
       "                                       │  [12 13 14 15]] │  [13 12 14 15]] │                                       \n",
       "                                       └─────────────────┴─────────────────┘                                       \n",
       "</pre>\n"
      ],
      "text/plain": [
       "                                       ┏━━━━━━━━━━━━━━━━━┳━━━━━━━━━━━━━━━━━┓                                       \n",
       "                                       ┃\u001b[38;5;40m \u001b[0m\u001b[38;5;40m   Original    \u001b[0m\u001b[38;5;40m \u001b[0m┃\u001b[38;5;40m \u001b[0m\u001b[38;5;40m     Nuevo     \u001b[0m\u001b[38;5;40m \u001b[0m┃                                       \n",
       "                                       ┡━━━━━━━━━━━━━━━━━╇━━━━━━━━━━━━━━━━━┩                                       \n",
       "                                       │ [[ 0  1  2  3]  │ [[ 1  0  2  3]  │                                       \n",
       "                                       │  [ 4  5  6  7]  │  [ 5  4  6  7]  │                                       \n",
       "                                       │  [ 8  9 10 11]  │  [ 9  8 10 11]  │                                       \n",
       "                                       │  [12 13 14 15]] │  [13 12 14 15]] │                                       \n",
       "                                       └─────────────────┴─────────────────┘                                       \n"
      ]
     },
     "metadata": {},
     "output_type": "display_data"
    },
    {
     "data": {
      "text/html": [
       "<pre style=\"white-space:pre;overflow-x:auto;line-height:normal;font-family:Menlo,'DejaVu Sans Mono',consolas,'Courier New',monospace\"><span style=\"color: #ff0000; text-decoration-color: #ff0000\">                                  Intercambie las filas </span><span style=\"color: #008080; text-decoration-color: #008080; font-weight: bold\">2</span><span style=\"color: #ff0000; text-decoration-color: #ff0000\"> y </span><span style=\"color: #008080; text-decoration-color: #008080; font-weight: bold\">3</span><span style=\"color: #ff0000; text-decoration-color: #ff0000\"> en el arreglo arr.                                   </span>\n",
       "</pre>\n"
      ],
      "text/plain": [
       "\u001b[91m                                  \u001b[0m\u001b[91mIntercambie las filas \u001b[0m\u001b[1;36m2\u001b[0m\u001b[91m y \u001b[0m\u001b[1;36m3\u001b[0m\u001b[91m en el arreglo arr.\u001b[0m\u001b[91m                                   \u001b[0m\n"
      ]
     },
     "metadata": {},
     "output_type": "display_data"
    },
    {
     "data": {
      "text/html": [
       "<pre style=\"white-space:pre;overflow-x:auto;line-height:normal;font-family:Menlo,'DejaVu Sans Mono',consolas,'Courier New',monospace\">                                       ┏━━━━━━━━━━━━━━━━━┳━━━━━━━━━━━━━━━━━┓                                       \n",
       "                                       ┃<span style=\"color: #00d700; text-decoration-color: #00d700\">    Original     </span>┃<span style=\"color: #00d700; text-decoration-color: #00d700\">      Nuevo      </span>┃                                       \n",
       "                                       ┡━━━━━━━━━━━━━━━━━╇━━━━━━━━━━━━━━━━━┩                                       \n",
       "                                       │ [[ 0  1  2  3]  │ [[ 0  1  2  3]  │                                       \n",
       "                                       │  [ 4  5  6  7]  │  [ 8  9 10 11]  │                                       \n",
       "                                       │  [ 8  9 10 11]  │  [ 4  5  6  7]  │                                       \n",
       "                                       │  [12 13 14 15]] │  [12 13 14 15]] │                                       \n",
       "                                       └─────────────────┴─────────────────┘                                       \n",
       "</pre>\n"
      ],
      "text/plain": [
       "                                       ┏━━━━━━━━━━━━━━━━━┳━━━━━━━━━━━━━━━━━┓                                       \n",
       "                                       ┃\u001b[38;5;40m \u001b[0m\u001b[38;5;40m   Original    \u001b[0m\u001b[38;5;40m \u001b[0m┃\u001b[38;5;40m \u001b[0m\u001b[38;5;40m     Nuevo     \u001b[0m\u001b[38;5;40m \u001b[0m┃                                       \n",
       "                                       ┡━━━━━━━━━━━━━━━━━╇━━━━━━━━━━━━━━━━━┩                                       \n",
       "                                       │ [[ 0  1  2  3]  │ [[ 0  1  2  3]  │                                       \n",
       "                                       │  [ 4  5  6  7]  │  [ 8  9 10 11]  │                                       \n",
       "                                       │  [ 8  9 10 11]  │  [ 4  5  6  7]  │                                       \n",
       "                                       │  [12 13 14 15]] │  [12 13 14 15]] │                                       \n",
       "                                       └─────────────────┴─────────────────┘                                       \n"
      ]
     },
     "metadata": {},
     "output_type": "display_data"
    },
    {
     "data": {
      "text/html": [
       "<pre style=\"white-space:pre;overflow-x:auto;line-height:normal;font-family:Menlo,'DejaVu Sans Mono',consolas,'Courier New',monospace\"><span style=\"color: #ff0000; text-decoration-color: #ff0000\">                                       Reverse las columnas del arreglo arr.                                       </span>\n",
       "</pre>\n"
      ],
      "text/plain": [
       "\u001b[91m                                       \u001b[0m\u001b[91mReverse las columnas del arreglo arr.\u001b[0m\u001b[91m                                       \u001b[0m\n"
      ]
     },
     "metadata": {},
     "output_type": "display_data"
    },
    {
     "data": {
      "text/html": [
       "<pre style=\"white-space:pre;overflow-x:auto;line-height:normal;font-family:Menlo,'DejaVu Sans Mono',consolas,'Courier New',monospace\">                                       ┏━━━━━━━━━━━━━━━━━┳━━━━━━━━━━━━━━━━━┓                                       \n",
       "                                       ┃<span style=\"color: #00d700; text-decoration-color: #00d700\">    Original     </span>┃<span style=\"color: #00d700; text-decoration-color: #00d700\">      Nuevo      </span>┃                                       \n",
       "                                       ┡━━━━━━━━━━━━━━━━━╇━━━━━━━━━━━━━━━━━┩                                       \n",
       "                                       │ [[ 0  1  2  3]  │ [[ 3  2  1  0]  │                                       \n",
       "                                       │  [ 4  5  6  7]  │  [ 7  6  5  4]  │                                       \n",
       "                                       │  [ 8  9 10 11]  │  [11 10  9  8]  │                                       \n",
       "                                       │  [12 13 14 15]] │  [15 14 13 12]] │                                       \n",
       "                                       └─────────────────┴─────────────────┘                                       \n",
       "</pre>\n"
      ],
      "text/plain": [
       "                                       ┏━━━━━━━━━━━━━━━━━┳━━━━━━━━━━━━━━━━━┓                                       \n",
       "                                       ┃\u001b[38;5;40m \u001b[0m\u001b[38;5;40m   Original    \u001b[0m\u001b[38;5;40m \u001b[0m┃\u001b[38;5;40m \u001b[0m\u001b[38;5;40m     Nuevo     \u001b[0m\u001b[38;5;40m \u001b[0m┃                                       \n",
       "                                       ┡━━━━━━━━━━━━━━━━━╇━━━━━━━━━━━━━━━━━┩                                       \n",
       "                                       │ [[ 0  1  2  3]  │ [[ 3  2  1  0]  │                                       \n",
       "                                       │  [ 4  5  6  7]  │  [ 7  6  5  4]  │                                       \n",
       "                                       │  [ 8  9 10 11]  │  [11 10  9  8]  │                                       \n",
       "                                       │  [12 13 14 15]] │  [15 14 13 12]] │                                       \n",
       "                                       └─────────────────┴─────────────────┘                                       \n"
      ]
     },
     "metadata": {},
     "output_type": "display_data"
    }
   ],
   "source": [
    "import numpy as np\n",
    "import rich.console as rc\n",
    "import rich.table as rt\n",
    "arr = np.arange(16).reshape(4,4)\n",
    "console = rc.Console()\n",
    "console.print(\"Intercambie las columnas 1 y 2 en el arreglo arr.\", justify=\"center\", style=\"bright_red\")\n",
    "new_arr = arr.copy()\n",
    "new_arr[:,[0,1]] = new_arr[:,[1,0]]\n",
    "rtab = rt.Table(show_header=True, header_style=\"green3\")\n",
    "rtab.add_column(\"Original\", justify=\"center\", no_wrap=True)\n",
    "rtab.add_column(\"Nuevo\", justify=\"center\", no_wrap=True)\n",
    "rtab.add_row(str(arr), str(new_arr))\n",
    "console.print(rtab, justify=\"center\")\n",
    "new_arr = arr.copy()\n",
    "new_arr[[1,2],:] = new_arr[[2,1],:]\n",
    "console.print(\"Intercambie las filas 2 y 3 en el arreglo arr.\", justify=\"center\", style=\"bright_red\")\n",
    "rtab = rt.Table(show_header=True, header_style=\"green3\")\n",
    "rtab.add_column(\"Original\", justify=\"center\", no_wrap=True)\n",
    "rtab.add_column(\"Nuevo\", justify=\"center\", no_wrap=True)\n",
    "rtab.add_row(str(arr), str(new_arr))\n",
    "console = rc.Console()\n",
    "console.print(rtab, justify=\"center\")\n",
    "new_arr = arr.copy()\n",
    "new_arr = new_arr[:,::-1]\n",
    "console.print(\"Reverse las columnas del arreglo arr.\", justify=\"center\", style=\"bright_red\")\n",
    "rtab = rt.Table(show_header=True, header_style=\"green3\")\n",
    "rtab.add_column(\"Original\", justify=\"center\", no_wrap=True)\n",
    "rtab.add_column(\"Nuevo\", justify=\"center\", no_wrap=True)\n",
    "rtab.add_row(str(arr), str(new_arr))\n",
    "console = rc.Console()\n",
    "console.print(rtab, justify=\"center\")"
   ]
  },
  {
   "cell_type": "markdown",
   "metadata": {},
   "source": [
    "## Problema 2\n",
    "\n",
    "La función softmax suele ser usada en métodos de clasificación multiclase y se define como:\n",
    "\n",
    "$$s(x_i) = \\frac{\\exp(x_i)}{\\sum_j \\exp(x_j)}$$\n",
    "\n",
    "Por ejemplo, para un vector $[-1, 0, 3, 5]$ tenemos \n",
    "\n",
    "$$\n",
    "\\begin{align*}\n",
    "e^{-1} &= 0.368 \\\\ \n",
    "e^0    &= 1     \\\\\n",
    "e^3    &= 20.09 \\\\\n",
    "e^5    &= 148.41\n",
    "\\end{align*}\n",
    "$$\n",
    "\n",
    "y\n",
    "\n",
    "$$ \\sum_j \\exp(x_j) = e^{-1} + e^{0} + e^{3} + e^{5} = 169.87$$\n",
    "\n",
    "Por lo que la función softmax será:\n",
    "\n",
    "$$\n",
    "\\left[\\frac{e^{-1}}{e^{-1} + e^{0} + e^{3} + e^{5}}, \\frac{e^0}{e^{-1} + e^{0} + e^{3} + e^{5}}, \\frac{e^3}{e^{-1} + e^{0} + e^{3} + e^{5}}, \\frac{e^5}{e^{-1} + e^{0} + e^{3} + e^{5}}\\right] = \n",
    "[0.002, 0.006, 0.118, 0.874]\n",
    "$$\n",
    "\n",
    "__Ejercicio:__ Usando Numpy calule el arreglo resultante de aplicar un softmax al arreglo\n",
    "\n",
    "``` python\n",
    "array([1.5709426 , 1.16403493, 1.2330337 , 4.26153421, 4.40515646,\n",
    "       4.19808553, 0.83602374, 2.17127201, 1.81457306, 1.13325462])\n",
    "```"
   ]
  },
  {
   "cell_type": "code",
   "execution_count": 30,
   "metadata": {},
   "outputs": [
    {
     "data": {
      "text/html": [
       "<pre style=\"white-space:pre;overflow-x:auto;line-height:normal;font-family:Menlo,'DejaVu Sans Mono',consolas,'Courier New',monospace\"><span style=\"color: #ff0000; text-decoration-color: #ff0000\">                                        Aplicar la funcion softmax al array                                        </span>\n",
       "</pre>\n"
      ],
      "text/plain": [
       "\u001b[91m                                        \u001b[0m\u001b[91mAplicar la funcion softmax al array\u001b[0m\u001b[91m                                        \u001b[0m\n"
      ]
     },
     "metadata": {},
     "output_type": "display_data"
    },
    {
     "data": {
      "text/plain": [
       "array([0.01915921, 0.01275439, 0.0136655 , 0.28241425, 0.32603255,\n",
       "       0.26505207, 0.00918769, 0.03492185, 0.02444471, 0.01236779])"
      ]
     },
     "execution_count": 30,
     "metadata": {},
     "output_type": "execute_result"
    }
   ],
   "source": [
    "array2 = np.array([1.5709426 , 1.16403493, 1.2330337 , 4.26153421, 4.40515646,\n",
    "                   4.19808553, 0.83602374, 2.17127201, 1.81457306, 1.13325462])\n",
    "def softmax(x):\n",
    "    e_x = np.exp(x)\n",
    "    soft = e_x / np.sum(e_x)\n",
    "    return soft\n",
    "console.print(\"Aplicar la funcion softmax al array\", justify=\"center\", style=\"bright_red\")\n",
    "softmax(array2)"
   ]
  },
  {
   "cell_type": "markdown",
   "metadata": {},
   "source": [
    "## Problema 3\n",
    "\n",
    "Investigue el funcinamiento de los métodos `argmax` y `argmin` de numpy. Con base en lo investigado resulva las siguientes preguntas:\n",
    "\n",
    "* Indique el indice de mayor valor y el indice de menor valor al aplicar un softmax al arreglo que se mostró en el __Problema 2__, es decir,\n",
    "\n",
    "``` python\n",
    "array([1.5709426 , 1.16403493, 1.2330337 , 4.26153421, 4.40515646,\n",
    "       4.19808553, 0.83602374, 2.17127201, 1.81457306, 1.13325462])\n",
    "```\n",
    "\n",
    "* Para cada fila indique la posición de columna de mayor valor y menor valor del arreglo:\n",
    "``` python\n",
    "array([[3, 9, 5, 8, 4],\n",
    "       [7, 1, 2, 8, 5],\n",
    "       [1, 4, 0, 3, 9]])\n",
    "```"
   ]
  },
  {
   "cell_type": "code",
   "execution_count": 35,
   "metadata": {},
   "outputs": [
    {
     "name": "stdout",
     "output_type": "stream",
     "text": [
      "El indice del valor minimo es: 6\n",
      "El indice del valor maximo es: 4\n",
      "El indice de la columna de mayor valor es:  (0, 1)\n",
      "El indice de la columna de menor valor es:  (2, 2)\n"
     ]
    }
   ],
   "source": [
    "# Funcion softmax\n",
    "print(\"El indice del valor minimo es:\", np.argmin(array2))\n",
    "print(\"El indice del valor maximo es:\", np.argmax(array2))\n",
    "array3 = np.array([[3, 9, 5, 8, 4], [7, 1, 2, 8, 5], [1, 4, 0, 3, 9]])\n",
    "ind = np.unravel_index(np.argmax(array3, axis=None), array3.shape)\n",
    "print(\"El indice de la columna de mayor valor es: \", ind)\n",
    "ind = np.unravel_index(np.argmin(array3, axis=None), array3.shape)\n",
    "print(\"El indice de la columna de menor valor es: \", ind)\n"
   ]
  },
  {
   "cell_type": "markdown",
   "metadata": {},
   "source": [
    "## Problema 4\n",
    "\n",
    "Para una matriz la Norma de Frobenius se define como:\n",
    "\n",
    "$$ ||A|| = \\sqrt{\\sum_i \\sum_j |a_{ij}|^2}$$\n",
    "\n",
    "__Ejercicio:__ Calcular la matriz resultante de dividir cada componente de esta por su correspondiente norma de Frobenius para el arreglo:\n",
    "\n",
    "``` python\n",
    "array([[74, 15, 29, 56,  6],\n",
    "       [74, 45, 24, 21, 39],\n",
    "       [96, 47, 91, 80, 19],\n",
    "       [72, 93, 32,  4, 73],\n",
    "       [10, 14, 81, 80,  2],\n",
    "       [78, 81, 72, 27, 14]])\n",
    "```"
   ]
  },
  {
   "cell_type": "code",
   "execution_count": 58,
   "metadata": {},
   "outputs": [
    {
     "name": "stdout",
     "output_type": "stream",
     "text": [
      "La norma de Frobenius del arreglo es:  313.7467131301936\n"
     ]
    }
   ],
   "source": [
    "# Crear la funcion para la Norma de Frobenius\n",
    "def frobenius(x):\n",
    "    return np.sqrt(np.sum(np.square(x)))\n",
    "array4 = np.array([\n",
    "    [74, 15, 29, 56,  6],\n",
    "    [74, 45, 24, 21, 39],\n",
    "    [96, 47, 91, 80, 19],\n",
    "    [72, 93, 32,  4, 73],\n",
    "    [10, 14, 81, 80,  2],\n",
    "    [78, 81, 72, 27, 14]\n",
    "    ])\n",
    "print(\"La norma de Frobenius del arreglo es: \", frobenius(array4))"
   ]
  },
  {
   "cell_type": "markdown",
   "metadata": {
    "id": "ShUWRutEMZqC"
   },
   "source": [
    "## Problema 5\n",
    "\n",
    "Dada una matriz, desarrolle un programa que retorne otra de igual dimensiones y en la que se le reste a cada componente, la media aritmética de su respectiva fila.\n",
    "\n",
    "### Ejemplo de Ejecución\n",
    "\n",
    "```python\n",
    "a = [[1, 2, 3], [4, 5, 6],[7,8,9]]\n",
    "X = np.array(a)\n",
    "X\n",
    "    array([[1, 2, 3],\n",
    "           [4, 5, 6],\n",
    "           [7, 8, 9]])\n",
    "```\n",
    "\n",
    "Al llamar la función debería retornar\n",
    "\n",
    "```python\n",
    "array([[-1.,  0.,  1.],\n",
    "       [-1.,  0.,  1.],\n",
    "       [-1.,  0.,  1.]])\n",
    "```"
   ]
  },
  {
   "cell_type": "code",
   "execution_count": 13,
   "metadata": {},
   "outputs": [
    {
     "data": {
      "text/html": [
       "<pre style=\"white-space:pre;overflow-x:auto;line-height:normal;font-family:Menlo,'DejaVu Sans Mono',consolas,'Courier New',monospace\"><span style=\"color: #ff0000; text-decoration-color: #ff0000\">                                             La media en el eje </span><span style=\"color: #008080; text-decoration-color: #008080; font-weight: bold\">1</span><span style=\"color: #ff0000; text-decoration-color: #ff0000\"> es:                                              </span>\n",
       "</pre>\n"
      ],
      "text/plain": [
       "\u001b[91m                                             \u001b[0m\u001b[91mLa media en el eje \u001b[0m\u001b[1;36m1\u001b[0m\u001b[91m es:\u001b[0m\u001b[91m                                              \u001b[0m\n"
      ]
     },
     "metadata": {},
     "output_type": "display_data"
    },
    {
     "data": {
      "text/html": [
       "<pre style=\"white-space:pre;overflow-x:auto;line-height:normal;font-family:Menlo,'DejaVu Sans Mono',consolas,'Courier New',monospace\">                                                   <span style=\"font-weight: bold\">[</span> <span style=\"color: #008080; text-decoration-color: #008080; font-weight: bold\">7</span>. <span style=\"color: #008080; text-decoration-color: #008080; font-weight: bold\">12</span>. <span style=\"color: #008080; text-decoration-color: #008080; font-weight: bold\">14</span>.<span style=\"font-weight: bold\">]</span>                                                   \n",
       "</pre>\n"
      ],
      "text/plain": [
       "                                                   \u001b[1m[\u001b[0m \u001b[1;36m7\u001b[0m. \u001b[1;36m12\u001b[0m. \u001b[1;36m14\u001b[0m.\u001b[1m]\u001b[0m                                                   \n"
      ]
     },
     "metadata": {},
     "output_type": "display_data"
    },
    {
     "data": {
      "text/html": [
       "<pre style=\"white-space:pre;overflow-x:auto;line-height:normal;font-family:Menlo,'DejaVu Sans Mono',consolas,'Courier New',monospace\">                                       ┏━━━━━━━━━━━━━━┳━━━━━━━━━━━━━━━━━━━━┓                                       \n",
       "                                       ┃<span style=\"color: #00d700; text-decoration-color: #00d700\">   Original   </span>┃<span style=\"color: #00d700; text-decoration-color: #00d700\">       Nuevo        </span>┃                                       \n",
       "                                       ┡━━━━━━━━━━━━━━╇━━━━━━━━━━━━━━━━━━━━┩                                       \n",
       "                                       │ [[14  1  6]  │ [[  7. -11.  -8.]  │                                       \n",
       "                                       │  [15 11 10]  │  [  8.  -1.  -4.]  │                                       \n",
       "                                       │  [19  7 16]] │  [ 12.  -5.   2.]] │                                       \n",
       "                                       └──────────────┴────────────────────┘                                       \n",
       "</pre>\n"
      ],
      "text/plain": [
       "                                       ┏━━━━━━━━━━━━━━┳━━━━━━━━━━━━━━━━━━━━┓                                       \n",
       "                                       ┃\u001b[38;5;40m \u001b[0m\u001b[38;5;40m  Original  \u001b[0m\u001b[38;5;40m \u001b[0m┃\u001b[38;5;40m \u001b[0m\u001b[38;5;40m      Nuevo       \u001b[0m\u001b[38;5;40m \u001b[0m┃                                       \n",
       "                                       ┡━━━━━━━━━━━━━━╇━━━━━━━━━━━━━━━━━━━━┩                                       \n",
       "                                       │ [[14  1  6]  │ [[  7. -11.  -8.]  │                                       \n",
       "                                       │  [15 11 10]  │  [  8.  -1.  -4.]  │                                       \n",
       "                                       │  [19  7 16]] │  [ 12.  -5.   2.]] │                                       \n",
       "                                       └──────────────┴────────────────────┘                                       \n"
      ]
     },
     "metadata": {},
     "output_type": "display_data"
    },
    {
     "data": {
      "text/html": [
       "<pre style=\"white-space:pre;overflow-x:auto;line-height:normal;font-family:Menlo,'DejaVu Sans Mono',consolas,'Courier New',monospace\">                                                <span style=\"font-weight: bold\">[[</span>  <span style=\"color: #008080; text-decoration-color: #008080; font-weight: bold\">7</span>. <span style=\"color: #008080; text-decoration-color: #008080; font-weight: bold\">-11</span>.  <span style=\"color: #008080; text-decoration-color: #008080; font-weight: bold\">-8</span>.<span style=\"font-weight: bold\">]</span>                                                  \n",
       "                                                 <span style=\"font-weight: bold\">[</span>  <span style=\"color: #008080; text-decoration-color: #008080; font-weight: bold\">8</span>.  <span style=\"color: #008080; text-decoration-color: #008080; font-weight: bold\">-1</span>.  <span style=\"color: #008080; text-decoration-color: #008080; font-weight: bold\">-4</span>.<span style=\"font-weight: bold\">]</span>                                                  \n",
       "                                                 <span style=\"font-weight: bold\">[</span> <span style=\"color: #008080; text-decoration-color: #008080; font-weight: bold\">12</span>.  <span style=\"color: #008080; text-decoration-color: #008080; font-weight: bold\">-5</span>.   <span style=\"color: #008080; text-decoration-color: #008080; font-weight: bold\">2</span>.<span style=\"font-weight: bold\">]]</span>                                                 \n",
       "</pre>\n"
      ],
      "text/plain": [
       "                                                \u001b[1m[\u001b[0m\u001b[1m[\u001b[0m  \u001b[1;36m7\u001b[0m. \u001b[1;36m-11\u001b[0m.  \u001b[1;36m-8\u001b[0m.\u001b[1m]\u001b[0m                                                  \n",
       "                                                 \u001b[1m[\u001b[0m  \u001b[1;36m8\u001b[0m.  \u001b[1;36m-1\u001b[0m.  \u001b[1;36m-4\u001b[0m.\u001b[1m]\u001b[0m                                                  \n",
       "                                                 \u001b[1m[\u001b[0m \u001b[1;36m12\u001b[0m.  \u001b[1;36m-5\u001b[0m.   \u001b[1;36m2\u001b[0m.\u001b[1m]\u001b[0m\u001b[1m]\u001b[0m                                                 \n"
      ]
     },
     "metadata": {},
     "output_type": "display_data"
    }
   ],
   "source": [
    "a = np.random.randint(0, 20, (3, 3))\n",
    "b = a.copy()\n",
    "# Mostrar la media en el eje 1\n",
    "console.print(\"La media en el eje 1 es:\", justify=\"center\", style=\"bright_red\")\n",
    "console.print(np.mean(a, axis=1), justify=\"center\")\n",
    "arr = b - b.mean(axis=1)\n",
    "rtab = rt.Table(show_header=True, header_style=\"green3\")\n",
    "rtab.add_column(\"Original\", justify=\"center\", no_wrap=True)\n",
    "rtab.add_column(\"Nuevo\", justify=\"center\", no_wrap=True)\n",
    "rtab.add_row(str(a), str(arr))    \n",
    "console.print(rtab, justify=\"center\")"
   ]
  },
  {
   "cell_type": "markdown",
   "metadata": {},
   "source": [
    "## Problema 6\n",
    "\n",
    "Para este ejercicio construya una función que retorne en un arreglo el producto de las diagonales de dos matrices cuadradas dadas.\n",
    "\n",
    "### Ejemplo de Ejecución\n",
    "\n",
    "```python\n",
    "A = np.array([[0.69081065, 0.06006137, 0.18300935, 0.19601926, 0.07824016],\n",
    "              [0.58312582, 0.77299046, 0.96722019, 0.92841321, 0.60148505],\n",
    "              [0.59474377, 0.88784343, 0.24064363, 0.35579806, 0.65341767],\n",
    "              [0.51393273, 0.4496207 , 0.45580921, 0.24620896, 0.5887129 ],\n",
    "              [0.13131683, 0.39797479, 0.0929423 , 0.99304881, 0.76627675]])\n",
    "\n",
    "B= np.array([[0.97989594, 0.08636754, 0.4492705 , 0.86072191, 0.03856519],\n",
    "             [0.44996748, 0.02053529, 0.52400952, 0.23380775, 0.1987145 ],\n",
    "             [0.55261594, 0.91708056, 0.0579381 , 0.20628072, 0.99147633],\n",
    "             [0.21272397, 0.23911208, 0.01610409, 0.16383926, 0.35710013],\n",
    "             [0.4835879 , 0.20955332, 0.30146096, 0.91481247, 0.34845907]])\n",
    "\n",
    "diagonal_prod(A,B)\n",
    "    np.array([0.67692255, 0.01587358, 0.01394243, 0.04033869, 0.26701608])\n",
    "\n",
    "```"
   ]
  },
  {
   "cell_type": "code",
   "execution_count": 73,
   "metadata": {},
   "outputs": [
    {
     "data": {
      "text/html": [
       "<pre style=\"white-space:pre;overflow-x:auto;line-height:normal;font-family:Menlo,'DejaVu Sans Mono',consolas,'Courier New',monospace\"><span style=\"color: #ff0000; text-decoration-color: #ff0000\">                                 La multiplicacion de las diagonales de A y B es:                                  </span>\n",
       "</pre>\n"
      ],
      "text/plain": [
       "\u001b[91m                                 \u001b[0m\u001b[91mLa multiplicacion de las diagonales de A y B es:\u001b[0m\u001b[91m                                  \u001b[0m\n"
      ]
     },
     "metadata": {},
     "output_type": "display_data"
    },
    {
     "data": {
      "text/plain": [
       "array([0.67692255, 0.01587358, 0.01394243, 0.04033869, 0.26701608])"
      ]
     },
     "execution_count": 73,
     "metadata": {},
     "output_type": "execute_result"
    }
   ],
   "source": [
    "A = np.array([[0.69081065, 0.06006137, 0.18300935, 0.19601926, 0.07824016],\n",
    "              [0.58312582, 0.77299046, 0.96722019, 0.92841321, 0.60148505],\n",
    "              [0.59474377, 0.88784343, 0.24064363, 0.35579806, 0.65341767],\n",
    "              [0.51393273, 0.4496207 , 0.45580921, 0.24620896, 0.5887129 ],\n",
    "              [0.13131683, 0.39797479, 0.0929423 , 0.99304881, 0.76627675]])\n",
    "\n",
    "B = np.array([[0.97989594, 0.08636754, 0.4492705 , 0.86072191, 0.03856519],\n",
    "             [0.44996748, 0.02053529, 0.52400952, 0.23380775, 0.1987145 ],\n",
    "             [0.55261594, 0.91708056, 0.0579381 , 0.20628072, 0.99147633],\n",
    "             [0.21272397, 0.23911208, 0.01610409, 0.16383926, 0.35710013],\n",
    "             [0.4835879 , 0.20955332, 0.30146096, 0.91481247, 0.34845907]])\n",
    "def diagonal(A, B):\n",
    "    return np.multiply(np.diag(A), np.diag(B))\n",
    "console.print(\"La multiplicacion de las diagonales de A y B es:\", justify=\"center\", style=\"bright_red\")\n",
    "diagonal(A, B)"
   ]
  }
 ],
 "metadata": {
  "colab": {
   "name": "Problem_Set_NUMPY.ipynb",
   "provenance": []
  },
  "kernelspec": {
   "display_name": "Python 3 (ipykernel)",
   "language": "python",
   "name": "python3"
  },
  "language_info": {
   "codemirror_mode": {
    "name": "ipython",
    "version": 3
   },
   "file_extension": ".py",
   "mimetype": "text/x-python",
   "name": "python",
   "nbconvert_exporter": "python",
   "pygments_lexer": "ipython3",
   "version": "3.9.13"
  },
  "vscode": {
   "interpreter": {
    "hash": "88279d2366fe020547cde40dd65aa0e3aa662a6ec1f3ca12d88834876c85e1a6"
   }
  }
 },
 "nbformat": 4,
 "nbformat_minor": 4
}
