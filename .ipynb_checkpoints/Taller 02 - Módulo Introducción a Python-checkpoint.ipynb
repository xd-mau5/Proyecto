{
 "cells": [
  {
   "cell_type": "markdown",
   "metadata": {},
   "source": [
    "# **Módulo Introducción Python**\n",
    "\n",
    "## **Taller 02**\n",
    "\n",
    "### **Fecha de entrega:** 27 Nov 2022 hasta las 7 pm"
   ]
  },
  {
   "cell_type": "markdown",
   "metadata": {},
   "source": [
    "**1.** Construya una función que tome como parámtero un texto, y retorne un diccionario cuyas llaves sean las palabras existentes, y los valores de cada llave será una lista con dos valores, el primero es la cantidad de letras que contiene cada llave, y el segundo es la cantidad de veces que aparece la palabra (llave).\n",
    "\n",
    "Ejemplo: Si la frase fuera \"Modulo de Python Universidad de Cordoba Introduccion de Python\"\n",
    "\n",
    "El resultado debe ser un diccionario como este:\n",
    "\n",
    "{\"Modulo\": [6, 1], \"de\": [2, 3], \"Python\": [6, 2], \"Universidad\": [11, 1], \"Cordoba\": [7, 1], \"Introduccion\": [12, 1]}"
   ]
  },
  {
   "cell_type": "code",
   "execution_count": 1,
   "metadata": {},
   "outputs": [
    {
     "name": "stdout",
     "output_type": "stream",
     "text": [
      "{'Modulo': [6, 1], 'de': [2, 3], 'Python': [6, 2], 'Universidad': [11, 1], 'Cordoba': [7, 1], 'Introduccion': [12, 1]}\n",
      "Wall time: 0 ns\n"
     ]
    }
   ],
   "source": [
    "%%time\n",
    "def contar_palabras(texto):\n",
    "    diccionario = {}\n",
    "    texto_separado = texto.split()\n",
    "    for palabra in texto_separado:\n",
    "        diccionario[palabra] = [len(palabra), texto.count(palabra)]\n",
    "    return diccionario\n",
    "\n",
    "print(contar_palabras(\"Modulo de Python Universidad de Cordoba Introduccion de Python\"))"
   ]
  },
  {
   "cell_type": "markdown",
   "metadata": {},
   "source": [
    "**2.** La siguiente función debería retornar un valor de 2 cuando se le ingresa numero1 igual a 5 y numero2 igual a 2. Corrija la función para lograr el resutado esperado.\n",
    "\n",
    "def valor_maximo(parametro1, parametro2):  \n",
    "  if numero1 > numero2:  \n",
    "    return numero1  \n",
    "  else:  \n",
    "    return numero2  \n",
    " \n",
    "def valor_minimo(a,b):  \n",
    "  if numero1 < numero2:  \n",
    "    return numero1  \n",
    "  else:  \n",
    "    return numero2  \n",
    "\n",
    " \n",
    "#programa principal  \n",
    "numero1 = int(input(\"Ingrese el número 1: \"))  \n",
    "numero = int(input(\"Ingrese el número 2: \"))  \n",
    "print(valor_maximo(numero1-3, valor_minimo(numero1+2, numero2-5)))"
   ]
  },
  {
   "cell_type": "code",
   "execution_count": 2,
   "metadata": {},
   "outputs": [
    {
     "name": "stdout",
     "output_type": "stream",
     "text": [
      "2\n",
      "Wall time: 3.09 s\n"
     ]
    }
   ],
   "source": [
    "%%time\n",
    "def valor_maximo(parametro1, parametro2):\n",
    "  if parametro1 > parametro2:\n",
    "    return parametro1\n",
    "  else:\n",
    "    return parametro2\n",
    "\n",
    "def valor_minimo(a,b):\n",
    "  if a < b:  \n",
    "    return a\n",
    "  else:\n",
    "    return b\n",
    "#programa principal  \n",
    "numero1 = int(input(\"Ingrese el número 1: \"))\n",
    "numero2 = int(input(\"Ingrese el número 2: \"))\n",
    "print(valor_maximo(numero1-3, valor_minimo(numero1+2, numero2-5)))"
   ]
  },
  {
   "cell_type": "markdown",
   "metadata": {},
   "source": [
    "**3.** Construya una función que reciba como parámetro una lista que contengan fechas (aleatorias). Esta función deberá calcular para cada fecha el grupo etáreo según el rango de edad al cual pertenezca. Utilizar la siguiente agrupación de grupos etáreos \n",
    "\n",
    "**Grupos etáreos:**  \n",
    "  \n",
    "* **Niños:** 11 o menos años.\n",
    "* **Adolescentes:** Entre 12 y 18 años.\n",
    "* **Jóvenes adultos:** Entre 19 y 28 años.\n",
    "* **Adultos:** Entre 29 y 59 años.\n",
    "* **Adultos mayores:** 60 o más años\n",
    "  \n",
    "El resultado esperado de la función es el siguiente:  \n",
    "  \n",
    "* \"Fecha1\": \"Edad\", \"Grupor etáreo\" --> Ejemplo: 24/08/1994: Persona con 28 años, perteneciente al grupo de Jóvenes Adultos.  \n",
    "\n",
    "Adicionalmente, esta función deberá incluir una excepción(error) en caso de que el parámetro ingresado no sea una lista (TypeError)\n",
    "\n",
    "**Nota:** Pueden utilizar la lista de fechas que deseen para validar que su función esté correcta. Para contrastar este funcionamiento yo ingresaré varias fechas que por lo menos me retorne todos los grupos etáreos una vez."
   ]
  },
  {
   "cell_type": "code",
   "execution_count": 3,
   "metadata": {},
   "outputs": [
    {
     "name": "stdout",
     "output_type": "stream",
     "text": [
      "Wall time: 1 ms\n"
     ]
    },
    {
     "data": {
      "text/plain": [
       "{'24/08/1994': [28, 'Jóvenes Adultos'],\n",
       " '24/08/2000': [22, 'Jóvenes Adultos'],\n",
       " '24/08/2005': [17, 'Adolescentes'],\n",
       " '24/08/2010': [12, 'Adolescentes'],\n",
       " '24/08/2015': [7, 'Niños'],\n",
       " '24/08/2020': [2, 'Niños'],\n",
       " '24/08/1990': [32, 'Adultos'],\n",
       " '24/08/1980': [42, 'Adultos'],\n",
       " '24/08/1970': [52, 'Adultos'],\n",
       " '24/08/1960': [62, 'Adultos mayores'],\n",
       " '24/08/1950': [72, 'Adultos mayores'],\n",
       " '24/08/1940': [82, 'Adultos mayores']}"
      ]
     },
     "execution_count": 3,
     "metadata": {},
     "output_type": "execute_result"
    }
   ],
   "source": [
    "%%time\n",
    "import datetime\n",
    "def calcular_edad(fecha):\n",
    "    fecha_separada = fecha.split(\"/\")\n",
    "    dia = int(fecha_separada[0])\n",
    "    mes = int(fecha_separada[1])\n",
    "    anio = int(fecha_separada[2])\n",
    "    return anio\n",
    "\n",
    "def calcular_grupo_etario(edad):\n",
    "    if edad <= 11:\n",
    "        return \"Niños\"\n",
    "    elif edad >= 12 and edad <= 18:\n",
    "        return \"Adolescentes\"\n",
    "    elif edad >= 19 and edad <= 28:\n",
    "        return \"Jóvenes Adultos\"\n",
    "    elif edad >= 29 and edad <= 59:\n",
    "        return \"Adultos\"\n",
    "    elif edad >= 60:\n",
    "        return \"Adultos mayores\"\n",
    "\n",
    "def calcular_edad_grupo_etario(lista_fechas):\n",
    "    if type(lista_fechas) != list:\n",
    "        raise TypeError\n",
    "    else:\n",
    "        diccionario = {}\n",
    "        for fecha in lista_fechas:\n",
    "            edad = datetime.datetime.now().year - calcular_edad(fecha)\n",
    "            diccionario[fecha] = [edad, calcular_grupo_etario(edad)]\n",
    "    return diccionario\n",
    "calcular_edad_grupo_etario([\"24/08/1994\", \"24/08/2000\", \"24/08/2005\", \"24/08/2010\", \"24/08/2015\", \n",
    "\"24/08/2020\", \"24/08/1990\", \"24/08/1980\", \"24/08/1970\", \"24/08/1960\", \"24/08/1950\", \"24/08/1940\"])"
   ]
  },
  {
   "cell_type": "markdown",
   "metadata": {},
   "source": [
    "**4.** Genere una función que reciba como parámetro una lista denominada \"oraciones\" la cual debe incluir varios textos. Para cada uno de los textos esta función deberá encontrar todos los espacios en blanco, comas, puntos, comillas (sencillas y dobles) y reemplazarlos por un guión bajo.  \n",
    "  \n",
    "Adicionalmente, esta función deberá incluir una excepción(error) en caso de que el parámetro ingresado no sea una lista (TypeError), y otra excepción en caso de que la lista no esté nombrada como \"oraciones\".  \n",
    "  \n",
    "**Nota1:** Utilice expresiones regulares.  \n",
    "**Nota2:** Pueden utilizar la lista con textos que deseen para validar que su función esté correcta. Para contrastar este funcionamiento yo ingresaré varios textos que contengan los elementos señalados y validaré que si reemplace por el guión bajo.  "
   ]
  },
  {
   "cell_type": "code",
   "execution_count": 6,
   "metadata": {},
   "outputs": [
    {
     "name": "stdout",
     "output_type": "stream",
     "text": [
      "Hola__como_estas?\n",
      "Bien_y_tu?\n",
      "Muy_bien__gracias\n",
      "Wall time: 0 ns\n"
     ]
    }
   ],
   "source": [
    "%%time\n",
    "import re\n",
    "def reemplazar_caracteres(oraciones):\n",
    "    if type(oraciones) != list:\n",
    "        raise TypeError\n",
    "    else:\n",
    "        for oracion in oraciones:\n",
    "            oracion = re.sub(r\"[\\s\\,\\.\\'\\\"]\", \"_\", oracion)\n",
    "            print(oracion)\n",
    "oraciones = [\"Hola, como estas?\", \"Bien y tu?\", \"Muy bien, gracias\"]\n",
    "reemplazar_caracteres(oraciones)"
   ]
  },
  {
   "cell_type": "markdown",
   "metadata": {},
   "source": [
    "**5** Utilizando una función **lambda** ordene la siguiente lista de acuerdo al antepenúltimo caracter del segundo elementos de cada tupla:  \n",
    "  \n",
    "lista = [(\"Marcelo\", \"Comerciante\", 44), (\"Paula\", \"Escritora\", 35), (\"Juan Pablo\", \"Abogado\", 24), (\"Estela\", \"Ingeniera\", 30)]  \n",
    "  \n",
    "El resultado esperado sería el siguiente:  \n",
    "  \n",
    "lista_ordenada = [(\"Juan Pablo\", \"Abogado\", 24), (\"Estela\", \"Ingeniera\", 30), (\"Marcelo\", \"Comerciante\", 44), (\"Paula\", \"Escritora\", 35)]  "
   ]
  },
  {
   "cell_type": "code",
   "execution_count": 5,
   "metadata": {},
   "outputs": [
    {
     "name": "stdout",
     "output_type": "stream",
     "text": [
      "[('Juan Pablo', 'Abogado', 24), ('Paula', 'Escritora', 35), ('Estela', 'Ingeniera', 30), ('Marcelo', 'Comerciante', 44)]\n",
      "Wall time: 999 µs\n"
     ]
    }
   ],
   "source": [
    "%%time\n",
    "lista = [(\"Marcelo\", \"Comerciante\", 44), (\"Paula\", \"Escritora\", 35), (\"Juan Pablo\", \"Abogado\", 24), (\"Estela\", \"Ingeniera\", 30)]\n",
    "lista.sort(key=lambda x: x[1][-2])\n",
    "print(lista)"
   ]
  }
 ],
 "metadata": {
  "kernelspec": {
   "display_name": "Python 3.9.15 ('base')",
   "language": "python",
   "name": "python3"
  },
  "language_info": {
   "codemirror_mode": {
    "name": "ipython",
    "version": 3
   },
   "file_extension": ".py",
   "mimetype": "text/x-python",
   "name": "python",
   "nbconvert_exporter": "python",
   "pygments_lexer": "ipython3",
   "version": "3.9.15"
  },
  "vscode": {
   "interpreter": {
    "hash": "88279d2366fe020547cde40dd65aa0e3aa662a6ec1f3ca12d88834876c85e1a6"
   }
  }
 },
 "nbformat": 4,
 "nbformat_minor": 2
}
