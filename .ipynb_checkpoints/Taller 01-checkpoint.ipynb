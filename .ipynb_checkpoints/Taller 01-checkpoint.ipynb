{
 "cells": [
  {
   "cell_type": "markdown",
   "metadata": {},
   "source": [
    "# **Módulo Introducción Python**\n",
    "\n",
    "## **Taller 01**\n",
    "\n",
    "### **Fecha de entrega:** 18 Nov 2022"
   ]
  },
  {
   "cell_type": "markdown",
   "metadata": {},
   "source": [
    "# Integrantes\n",
    "- Omar Alejandro Izquierdo Berrio\n",
    "- Tania Alexandra Florez Ramos"
   ]
  },
  {
   "cell_type": "markdown",
   "metadata": {},
   "source": [
    "**1.** Escriba un código que imprima la tabla de multiplicación de cualquier número dado. Esta tabla debe ir desde su múltiplo con 1 hasta 15\n",
    "\n",
    "Ejemplo: Si introduzco el valor de 3, este código me debe retornar:\n",
    "\n",
    "3  \n",
    "6  \n",
    "9  \n",
    "12  \n",
    "15  \n",
    "18  \n",
    "21  \n",
    "24  \n",
    "27  \n",
    "30  \n",
    "33  \n",
    "36  \n",
    "39  \n",
    "42  \n",
    "45  "
   ]
  },
  {
   "cell_type": "code",
   "execution_count": 37,
   "metadata": {},
   "outputs": [
    {
     "data": {
      "text/html": [
       "<pre style=\"white-space:pre;overflow-x:auto;line-height:normal;font-family:Menlo,'DejaVu Sans Mono',consolas,'Courier New',monospace\"><span style=\"font-style: italic\">Tabla de multiplo del </span>\n",
       "<span style=\"font-style: italic\">      número 10       </span>\n",
       "┏━━━━━━━━┳━━━━━━━━━━━┓\n",
       "┃<span style=\"font-weight: bold\"> Número </span>┃<span style=\"font-weight: bold\"> Resultado </span>┃\n",
       "┡━━━━━━━━╇━━━━━━━━━━━┩\n",
       "│ 1      │ 10        │\n",
       "│ 2      │ 20        │\n",
       "│ 3      │ 30        │\n",
       "│ 4      │ 40        │\n",
       "│ 5      │ 50        │\n",
       "│ 6      │ 60        │\n",
       "│ 7      │ 70        │\n",
       "│ 8      │ 80        │\n",
       "│ 9      │ 90        │\n",
       "│ 10     │ 100       │\n",
       "│ 11     │ 110       │\n",
       "│ 12     │ 120       │\n",
       "│ 13     │ 130       │\n",
       "│ 14     │ 140       │\n",
       "│ 15     │ 150       │\n",
       "└────────┴───────────┘\n",
       "</pre>\n"
      ],
      "text/plain": [
       "\u001b[3mTabla de multiplo del \u001b[0m\n",
       "\u001b[3m      número 10       \u001b[0m\n",
       "┏━━━━━━━━┳━━━━━━━━━━━┓\n",
       "┃\u001b[1m \u001b[0m\u001b[1mNúmero\u001b[0m\u001b[1m \u001b[0m┃\u001b[1m \u001b[0m\u001b[1mResultado\u001b[0m\u001b[1m \u001b[0m┃\n",
       "┡━━━━━━━━╇━━━━━━━━━━━┩\n",
       "│ 1      │ 10        │\n",
       "│ 2      │ 20        │\n",
       "│ 3      │ 30        │\n",
       "│ 4      │ 40        │\n",
       "│ 5      │ 50        │\n",
       "│ 6      │ 60        │\n",
       "│ 7      │ 70        │\n",
       "│ 8      │ 80        │\n",
       "│ 9      │ 90        │\n",
       "│ 10     │ 100       │\n",
       "│ 11     │ 110       │\n",
       "│ 12     │ 120       │\n",
       "│ 13     │ 130       │\n",
       "│ 14     │ 140       │\n",
       "│ 15     │ 150       │\n",
       "└────────┴───────────┘\n"
      ]
     },
     "metadata": {},
     "output_type": "display_data"
    }
   ],
   "source": [
    "import rich.console as console\n",
    "import rich.table as table\n",
    "multiplo = int(input(\"Ingrese el número del cual quiere la tabla de multiplicación: \"))\n",
    "tabla = table.Table(title=\"Tabla de multiplo del número \" + str(multiplo))\n",
    "tabla.add_column(\"Número\")\n",
    "tabla.add_column(\"Resultado\")\n",
    "for i in range(1, 16):\n",
    "    tabla.add_row(str(i), str(multiplo * i))\n",
    "consola = console.Console()\n",
    "consola.print(tabla)"
   ]
  },
  {
   "cell_type": "markdown",
   "metadata": {},
   "source": [
    "**2.** Escriba un código que imprima todos los números primos que se encuentren en un determinado rango.\n",
    "\n",
    "Ejemplo: Si introduzco un número inferior de 10 y un número superior igual a 20 este programa me debe retornar :\n",
    "\n",
    "11  \n",
    "13  \n",
    "17  \n",
    "19"
   ]
  },
  {
   "cell_type": "code",
   "execution_count": 38,
   "metadata": {},
   "outputs": [
    {
     "name": "stdout",
     "output_type": "stream",
     "text": [
      "El rango a usar es: [0, 100]\n"
     ]
    },
    {
     "data": {
      "text/html": [
       "<pre style=\"white-space:pre;overflow-x:auto;line-height:normal;font-family:Menlo,'DejaVu Sans Mono',consolas,'Courier New',monospace\">Los números primos en el rango <span style=\"color: #008080; text-decoration-color: #008080; font-weight: bold\">0</span> - <span style=\"color: #008080; text-decoration-color: #008080; font-weight: bold\">100</span> son: \n",
       "<span style=\"font-weight: bold\">[</span><span style=\"color: #008080; text-decoration-color: #008080; font-weight: bold\">2</span>, <span style=\"color: #008080; text-decoration-color: #008080; font-weight: bold\">3</span>, <span style=\"color: #008080; text-decoration-color: #008080; font-weight: bold\">5</span>, <span style=\"color: #008080; text-decoration-color: #008080; font-weight: bold\">7</span>, <span style=\"color: #008080; text-decoration-color: #008080; font-weight: bold\">11</span>, <span style=\"color: #008080; text-decoration-color: #008080; font-weight: bold\">13</span>, <span style=\"color: #008080; text-decoration-color: #008080; font-weight: bold\">17</span>, <span style=\"color: #008080; text-decoration-color: #008080; font-weight: bold\">19</span>, <span style=\"color: #008080; text-decoration-color: #008080; font-weight: bold\">23</span>, <span style=\"color: #008080; text-decoration-color: #008080; font-weight: bold\">29</span>, <span style=\"color: #008080; text-decoration-color: #008080; font-weight: bold\">31</span>, <span style=\"color: #008080; text-decoration-color: #008080; font-weight: bold\">37</span>, <span style=\"color: #008080; text-decoration-color: #008080; font-weight: bold\">41</span>, <span style=\"color: #008080; text-decoration-color: #008080; font-weight: bold\">43</span>, <span style=\"color: #008080; text-decoration-color: #008080; font-weight: bold\">47</span>, <span style=\"color: #008080; text-decoration-color: #008080; font-weight: bold\">53</span>, <span style=\"color: #008080; text-decoration-color: #008080; font-weight: bold\">59</span>, <span style=\"color: #008080; text-decoration-color: #008080; font-weight: bold\">61</span>, <span style=\"color: #008080; text-decoration-color: #008080; font-weight: bold\">67</span>, <span style=\"color: #008080; text-decoration-color: #008080; font-weight: bold\">71</span>, <span style=\"color: #008080; text-decoration-color: #008080; font-weight: bold\">73</span>, <span style=\"color: #008080; text-decoration-color: #008080; font-weight: bold\">79</span>, <span style=\"color: #008080; text-decoration-color: #008080; font-weight: bold\">83</span>, <span style=\"color: #008080; text-decoration-color: #008080; font-weight: bold\">89</span>, <span style=\"color: #008080; text-decoration-color: #008080; font-weight: bold\">97</span><span style=\"font-weight: bold\">]</span>\n",
       "</pre>\n"
      ],
      "text/plain": [
       "Los números primos en el rango \u001b[1;36m0\u001b[0m - \u001b[1;36m100\u001b[0m son: \n",
       "\u001b[1m[\u001b[0m\u001b[1;36m2\u001b[0m, \u001b[1;36m3\u001b[0m, \u001b[1;36m5\u001b[0m, \u001b[1;36m7\u001b[0m, \u001b[1;36m11\u001b[0m, \u001b[1;36m13\u001b[0m, \u001b[1;36m17\u001b[0m, \u001b[1;36m19\u001b[0m, \u001b[1;36m23\u001b[0m, \u001b[1;36m29\u001b[0m, \u001b[1;36m31\u001b[0m, \u001b[1;36m37\u001b[0m, \u001b[1;36m41\u001b[0m, \u001b[1;36m43\u001b[0m, \u001b[1;36m47\u001b[0m, \u001b[1;36m53\u001b[0m, \u001b[1;36m59\u001b[0m, \u001b[1;36m61\u001b[0m, \u001b[1;36m67\u001b[0m, \u001b[1;36m71\u001b[0m, \u001b[1;36m73\u001b[0m, \u001b[1;36m79\u001b[0m, \u001b[1;36m83\u001b[0m, \u001b[1;36m89\u001b[0m, \u001b[1;36m97\u001b[0m\u001b[1m]\u001b[0m\n"
      ]
     },
     "metadata": {},
     "output_type": "display_data"
    }
   ],
   "source": [
    "consola = console.Console()\n",
    "entrada = input(\"Ingrese el rango de números primos que desea ver separados por un guion: \")\n",
    "rango = entrada.split(\"-\")\n",
    "rango = [int(i) for i in rango]\n",
    "print (\"El rango a usar es: \" + str(rango))\n",
    "primos = []\n",
    "for i in range(rango[0], rango[1] + 1):\n",
    "    if i > 1:\n",
    "        for j in range(2, i):\n",
    "            if i % j == 0:\n",
    "                break\n",
    "        else:\n",
    "            primos.append(i)\n",
    "consola.print(\"Los números primos en el rango \" + str(rango[0]) + \" - \" + str(rango[1]) + \" son: \\n\" + str(primos))\n"
   ]
  },
  {
   "cell_type": "markdown",
   "metadata": {},
   "source": [
    "**3.** Escriba un código que calcule e imprima el cubo de los números entre 1 y un número dado. \n",
    "\n",
    "Ejemplo: Si introduzco el número 5 debería tener lo siguiente:\n",
    "\n",
    "Número 1: Su cubo es 1  \n",
    "Número 2: Su cubo es 8  \n",
    "Número 3: Su cubo es 27  \n",
    "Número 4: Su cubo es 64  \n",
    "Número 5: Su cubo es 125"
   ]
  },
  {
   "cell_type": "code",
   "execution_count": 39,
   "metadata": {},
   "outputs": [
    {
     "data": {
      "text/html": [
       "<pre style=\"white-space:pre;overflow-x:auto;line-height:normal;font-family:Menlo,'DejaVu Sans Mono',consolas,'Courier New',monospace\"><span style=\"font-style: italic\">   Cubo de los   </span>\n",
       "<span style=\"font-style: italic\">números hasta 20 </span>\n",
       "┏━━━━━━━━┳━━━━━━┓\n",
       "┃<span style=\"font-weight: bold\"> Número </span>┃<span style=\"font-weight: bold\"> Cubo </span>┃\n",
       "┡━━━━━━━━╇━━━━━━┩\n",
       "│ 1      │ 1    │\n",
       "│ 2      │ 8    │\n",
       "│ 3      │ 27   │\n",
       "│ 4      │ 64   │\n",
       "│ 5      │ 125  │\n",
       "│ 6      │ 216  │\n",
       "│ 7      │ 343  │\n",
       "│ 8      │ 512  │\n",
       "│ 9      │ 729  │\n",
       "│ 10     │ 1000 │\n",
       "│ 11     │ 1331 │\n",
       "│ 12     │ 1728 │\n",
       "│ 13     │ 2197 │\n",
       "│ 14     │ 2744 │\n",
       "│ 15     │ 3375 │\n",
       "│ 16     │ 4096 │\n",
       "│ 17     │ 4913 │\n",
       "│ 18     │ 5832 │\n",
       "│ 19     │ 6859 │\n",
       "│ 20     │ 8000 │\n",
       "└────────┴──────┘\n",
       "</pre>\n"
      ],
      "text/plain": [
       "\u001b[3m   Cubo de los   \u001b[0m\n",
       "\u001b[3mnúmeros hasta 20 \u001b[0m\n",
       "┏━━━━━━━━┳━━━━━━┓\n",
       "┃\u001b[1m \u001b[0m\u001b[1mNúmero\u001b[0m\u001b[1m \u001b[0m┃\u001b[1m \u001b[0m\u001b[1mCubo\u001b[0m\u001b[1m \u001b[0m┃\n",
       "┡━━━━━━━━╇━━━━━━┩\n",
       "│ 1      │ 1    │\n",
       "│ 2      │ 8    │\n",
       "│ 3      │ 27   │\n",
       "│ 4      │ 64   │\n",
       "│ 5      │ 125  │\n",
       "│ 6      │ 216  │\n",
       "│ 7      │ 343  │\n",
       "│ 8      │ 512  │\n",
       "│ 9      │ 729  │\n",
       "│ 10     │ 1000 │\n",
       "│ 11     │ 1331 │\n",
       "│ 12     │ 1728 │\n",
       "│ 13     │ 2197 │\n",
       "│ 14     │ 2744 │\n",
       "│ 15     │ 3375 │\n",
       "│ 16     │ 4096 │\n",
       "│ 17     │ 4913 │\n",
       "│ 18     │ 5832 │\n",
       "│ 19     │ 6859 │\n",
       "│ 20     │ 8000 │\n",
       "└────────┴──────┘\n"
      ]
     },
     "metadata": {},
     "output_type": "display_data"
    }
   ],
   "source": [
    "consola = console.Console()\n",
    "numero = int(input(\"Ingrese el número hasta el cual quiere ver el cubo de los números: \"))\n",
    "tabla = table.Table(title=\"Cubo de los números hasta \" + str(numero))\n",
    "tabla.add_column(\"Número\")\n",
    "tabla.add_column(\"Cubo\")\n",
    "for i in range(1, numero + 1):\n",
    "    tabla.add_row(str(i), str(i ** 3))\n",
    "consola.print(tabla)"
   ]
  },
  {
   "cell_type": "markdown",
   "metadata": {},
   "source": [
    "**4.** Escriba un código que imprima el siguiente patrón haciendo uso de un ciclo for:\n",
    "\n",
    "\\*       \n",
    "\\* *  \n",
    "\\* * *  \n",
    "\\* * * *  \n",
    "\\* * * * *  \n",
    "\\* * * *  \n",
    "\\* * *  \n",
    "\\* *  \n",
    "\\*  "
   ]
  },
  {
   "cell_type": "code",
   "execution_count": 40,
   "metadata": {},
   "outputs": [
    {
     "name": "stdout",
     "output_type": "stream",
     "text": [
      "Patrón de asteriscos de 1 hasta 10 y luego de 10 hasta 1\n",
      "* \n",
      "* * \n",
      "* * * \n",
      "* * * * \n",
      "* * * * * \n",
      "* * * * * * \n",
      "* * * * * * * \n",
      "* * * * * * * * \n",
      "* * * * * * * * * \n",
      "* * * * * * * * * * \n",
      "* * * * * * * * * \n",
      "* * * * * * * * \n",
      "* * * * * * * \n",
      "* * * * * * \n",
      "* * * * * \n",
      "* * * * \n",
      "* * * \n",
      "* * \n",
      "* \n"
     ]
    }
   ],
   "source": [
    "consola = console.Console()\n",
    "numero = int(input(\"Ingrese el número hasta el cual quiere ver el patrón de asteriscos: \"))\n",
    "print(\"Patrón de asteriscos de 1 hasta \" + str(numero) + \" y luego de \" + str(numero) + \" hasta 1\")\n",
    "for i in range(1, numero + 1):\n",
    "    print(\"* \" * i)\n",
    "for i in range(numero - 1, 0, -1):\n",
    "    print(\"* \" * i)"
   ]
  },
  {
   "cell_type": "markdown",
   "metadata": {},
   "source": [
    "**5** Escriba un código que sume todos los números de la lista \"valores\" que se encuentre entre los índices especificados en un rango\n",
    "\n",
    "valores = [40, 2, 38, 25, 100, 53, 67, 7]\n",
    "\n",
    "Ejemplo: Si especifico un rango de índice entre el 0 y el 2 me debe retornar como resultado un valor igual a 80 (40 + 2 + 38)"
   ]
  },
  {
   "cell_type": "code",
   "execution_count": 41,
   "metadata": {},
   "outputs": [
    {
     "name": "stdout",
     "output_type": "stream",
     "text": [
      "Ingrese el rango de índices que desea sumar separados por un guion, comenzando desde 0 hasta el índice 7\n",
      "La suma de los valores en el rango 0 a 6 es: 325\n"
     ]
    }
   ],
   "source": [
    "valores = [40, 2, 38, 25, 100, 53, 67, 7]\n",
    "print(\"Ingrese el rango de índices que desea sumar separados por un guion, comenzando desde 0 hasta el índice \" + str(len(valores) - 1))\n",
    "entrada = input(\"Ingrese el rango de índices que desea sumar separados por un guion: \")\n",
    "rango = entrada.split(\"-\")\n",
    "if int(rango[0]) < 0 or int(rango[1]) > len(valores) - 1:\n",
    "    print(\"El rango ingresado no es válido\")\n",
    "else:\n",
    "    suma = 0\n",
    "    for i in range(int(rango[0]), int(rango[1]) + 1):\n",
    "        suma += valores[i]\n",
    "    print(\"La suma de los valores en el rango \" + str(rango[0]) + \" a \" + str(rango[1]) + \" es: \" + str(suma))"
   ]
  }
 ],
 "metadata": {
  "kernelspec": {
   "display_name": "Python 3.9.13",
   "language": "python",
   "name": "python3"
  },
  "language_info": {
   "codemirror_mode": {
    "name": "ipython",
    "version": 3
   },
   "file_extension": ".py",
   "mimetype": "text/x-python",
   "name": "python",
   "nbconvert_exporter": "python",
   "pygments_lexer": "ipython3",
   "version": "3.9.13"
  },
  "orig_nbformat": 4,
  "vscode": {
   "interpreter": {
    "hash": "88279d2366fe020547cde40dd65aa0e3aa662a6ec1f3ca12d88834876c85e1a6"
   }
  }
 },
 "nbformat": 4,
 "nbformat_minor": 2
}
