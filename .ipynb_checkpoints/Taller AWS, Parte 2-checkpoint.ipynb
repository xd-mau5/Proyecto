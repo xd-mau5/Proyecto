{
 "cells": [
  {
   "cell_type": "markdown",
   "id": "51abb093-07c8-4fee-ac9e-385e6a32462f",
   "metadata": {},
   "source": [
    "# Taller de AWS - POSTGRES"
   ]
  },
  {
   "cell_type": "markdown",
   "id": "85fe95c4-5d28-420c-97fc-ed870f5df634",
   "metadata": {},
   "source": [
    "De forma individual deberan crear y conectarse a una BD en AWS RDS, deben realizar los siguientes procedimientos:  "
   ]
  },
  {
   "cell_type": "markdown",
   "id": "95d6312f-f2ae-4eb2-b527-6703ad59603a",
   "metadata": {},
   "source": [
    "1. Observe el siguiente modelo ER, debe crearlo en la BD de AWS RDS: "
   ]
  },
  {
   "cell_type": "markdown",
   "id": "597f2a16-6fbe-4c93-9760-ffbecfeb4a6e",
   "metadata": {},
   "source": [
    "![Modelo](modelo.png)"
   ]
  },
  {
   "cell_type": "markdown",
   "id": "339da8a5-afc8-4f01-b409-07288aa98062",
   "metadata": {},
   "source": [
    "2. Instalar la librería psycopg2 y pandas con el comando:"
   ]
  },
  {
   "cell_type": "raw",
   "id": "0490b931-6355-4545-aca1-bc4d91c0b157",
   "metadata": {},
   "source": [
    "pip install psycopg2, pandas"
   ]
  },
  {
   "cell_type": "markdown",
   "id": "c9acd420-ad1b-4349-848c-8e63c13eeeb5",
   "metadata": {},
   "source": [
    "conda install psycopg2, pandas"
   ]
  },
  {
   "cell_type": "markdown",
   "id": "9b0f36bd-7e70-4ae2-bd90-1fba54a76747",
   "metadata": {},
   "source": [
    "3. Conectarse a la BD, se implementa el siguiente codigo:"
   ]
  },
  {
   "cell_type": "code",
   "execution_count": 16,
   "id": "96d3be44-4d5a-4dc1-8831-877a092b894a",
   "metadata": {},
   "outputs": [
    {
     "name": "stdout",
     "output_type": "stream",
     "text": [
      "Conexión exitosa!\n"
     ]
    }
   ],
   "source": [
    "import pandas as pd\n",
    "import sys\n",
    "import psycopg2\n",
    "from psycopg2 import OperationalError, errorcodes, errors\n",
    "\n",
    "myconnection = psycopg2.connect(user=\"postgres\",\n",
    "                                  password=\"unicor123\",\n",
    "                                  host=\"unicor.cc9mtlvjlpbj.us-east-1.rds.amazonaws.com\",\n",
    "                                  port=\"5432\",\n",
    "                                  database=\"postgres\")\n",
    "\n",
    "\n",
    "print('Conexión exitosa!')"
   ]
  },
  {
   "cell_type": "code",
   "execution_count": 17,
   "id": "aafd55e3-9cf4-4a62-8fae-42fd526c0624",
   "metadata": {},
   "outputs": [],
   "source": [
    "# Creamos un cursos para desarrollaroperaciones en la BD\n",
    "cursor = myconnection.cursor()"
   ]
  },
  {
   "cell_type": "markdown",
   "id": "e2283db6-8277-4e23-a8cd-262b84583bdd",
   "metadata": {},
   "source": [
    "## Ejecutando Querys"
   ]
  },
  {
   "cell_type": "code",
   "execution_count": 18,
   "id": "95d64dad-f094-41da-8a7b-3300a6a4417a",
   "metadata": {},
   "outputs": [
    {
     "name": "stdout",
     "output_type": "stream",
     "text": [
      "Estas conectado a -> ('PostgreSQL 13.3 on x86_64-pc-linux-gnu, compiled by gcc (GCC) 7.3.1 20180712 (Red Hat 7.3.1-12), 64-bit',)\n"
     ]
    }
   ],
   "source": [
    "# Ejecuntando un SQL query\n",
    "cursor.execute(\"SELECT version();\")\n",
    "# resultados\n",
    "record = cursor.fetchone()\n",
    "print(\"Estas conectado a ->\", record)"
   ]
  },
  {
   "cell_type": "markdown",
   "id": "c35e29b1-7c32-4c63-b569-1e13920458f5",
   "metadata": {},
   "source": [
    "4. Crear todas las tablas y sus relaciones, del modelo de arriba. "
   ]
  },
  {
   "cell_type": "code",
   "execution_count": null,
   "id": "753d4191-ed80-46ce-829f-998b2cee9ca1",
   "metadata": {},
   "outputs": [],
   "source": []
  },
  {
   "cell_type": "markdown",
   "id": "04590503-df66-41fc-acd3-267e20ddb1d9",
   "metadata": {},
   "source": [
    "5. Realizar una consulta sobre los productos y los clientes que  los compran e impimirlos por pantalla. (para esta operación debe llenar las tablas con registros ficticios)."
   ]
  },
  {
   "cell_type": "code",
   "execution_count": null,
   "id": "c23a3968-6c14-46d6-a7a9-d9261dc96ea0",
   "metadata": {},
   "outputs": [],
   "source": []
  },
  {
   "cell_type": "markdown",
   "id": "e997dc1b-835f-4b8e-94d2-2db22fd1caf1",
   "metadata": {},
   "source": [
    "## Ejemplos de reportes x pantalla"
   ]
  },
  {
   "cell_type": "code",
   "execution_count": 30,
   "id": "c947635b-11bf-4cd7-8ce3-fb300c629e82",
   "metadata": {},
   "outputs": [
    {
     "data": {
      "text/html": [
       "<div>\n",
       "<style scoped>\n",
       "    .dataframe tbody tr th:only-of-type {\n",
       "        vertical-align: middle;\n",
       "    }\n",
       "\n",
       "    .dataframe tbody tr th {\n",
       "        vertical-align: top;\n",
       "    }\n",
       "\n",
       "    .dataframe thead th {\n",
       "        text-align: right;\n",
       "    }\n",
       "</style>\n",
       "<table border=\"1\" class=\"dataframe\">\n",
       "  <thead>\n",
       "    <tr style=\"text-align: right;\">\n",
       "      <th></th>\n",
       "      <th>id</th>\n",
       "    </tr>\n",
       "  </thead>\n",
       "  <tbody>\n",
       "    <tr>\n",
       "      <th>0</th>\n",
       "      <td>AAA</td>\n",
       "    </tr>\n",
       "    <tr>\n",
       "      <th>1</th>\n",
       "      <td>BBB</td>\n",
       "    </tr>\n",
       "  </tbody>\n",
       "</table>\n",
       "</div>"
      ],
      "text/plain": [
       "    id\n",
       "0  AAA\n",
       "1  BBB"
      ]
     },
     "execution_count": 30,
     "metadata": {},
     "output_type": "execute_result"
    }
   ],
   "source": [
    "import pandas.io.sql as psql\n",
    "df = psql.read_sql(\"SELECT * FROM tem\", myconnection)\n",
    "df.head()"
   ]
  },
  {
   "cell_type": "markdown",
   "id": "978cd8fe-56a8-4208-979e-00abdceba1ef",
   "metadata": {},
   "source": [
    "#### Cerrar la conexión"
   ]
  },
  {
   "cell_type": "code",
   "execution_count": null,
   "id": "f754f0b1-b416-4fe4-83b4-42f68bc9c4e7",
   "metadata": {},
   "outputs": [],
   "source": [
    "cursor.close()\n",
    "myconnection.close()\n",
    "print(\"Conexión cerrada\")"
   ]
  }
 ],
 "metadata": {
  "kernelspec": {
   "display_name": "Python 3 (ipykernel)",
   "language": "python",
   "name": "python3"
  },
  "language_info": {
   "codemirror_mode": {
    "name": "ipython",
    "version": 3
   },
   "file_extension": ".py",
   "mimetype": "text/x-python",
   "name": "python",
   "nbconvert_exporter": "python",
   "pygments_lexer": "ipython3",
   "version": "3.9.7"
  }
 },
 "nbformat": 4,
 "nbformat_minor": 5
}
